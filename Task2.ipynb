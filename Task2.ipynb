pip install pandas fpdf
import pandas as pd
from fpdf import FPDF
import os  # Import os to open the PDF

# Step 1: Read data from a CSV file

data_file = "C:/Users/Sonawane/Documents/book.csv"
df = pd.read_csv(data_file)

# Step 2: Analyze the data

average_score = df['Score'].mean()
max_score = df['Score'].max()
min_score = df['Score'].min()

# Prepare analysis results

analysis_results = f"""
Analysis Report
-------------------------
Total Students: {len(df)}
Average Score: {average_score:.2f}
Maximum Score: {max_score}
Minimum Score: {min_score}
"""

# Step 3: Generate a PDF report

class PDF(FPDF):
    def header(self):
        self.set_font('Arial', 'B', 12)
        self.cell(0, 10, 'Student Scores Report', 0, 1, 'C')

    def footer(self):
        self.set_y(-15)
        self.set_font('Arial', 'I', 8)
        self.cell(0, 10, f'Page {self.page_no()}', 0, 0, 'C')

    def chapter_title(self, title):
        self.set_font('Arial', 'B', 12)
        self.cell(0, 10, title, 0, 1, 'L')
        self.ln(5)

    def chapter_body(self, body):
        self.set_font('Arial', '', 12)
        self.multi_cell(0, 10, body)
        self.ln()

    def student_scores(self, df):
        self.set_font('Arial', 'B', 12)
        self.cell(0, 10, 'Student Scores', 0, 1, 'L')
        self.set_font('Arial', '', 12)
        
        # Adding a table-like structure for student scores

        for index, row in df.iterrows():
            self.cell(100, 10, row['Name'], 1)
            self.cell(100, 10, str(row['Score']), 1)
            self.ln()

# Create a PDF document

pdf = PDF()
pdf.add_page()

# Add analysis results

pdf.chapter_title('Analysis Results')
pdf.chapter_body(analysis_results)

# Add detailed student scores

pdf.student_scores(df)

# Step 4: Save the PDF

pdf_output_file = 'student_scores_report.pdf'
pdf.output(pdf_output_file)

print(f"Report generated: {pdf_output_file}")

# Step 5: Open the PDF

os.startfile(pdf_output_file)  
